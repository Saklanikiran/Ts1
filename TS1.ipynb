{
 "cells": [
  {
   "cell_type": "markdown",
   "id": "3c6f787d-3b4c-4676-8234-16cf4677801f",
   "metadata": {},
   "source": [
    "# Ans : 1"
   ]
  },
  {
   "cell_type": "code",
   "execution_count": null,
   "id": "ac804f4e-02bd-4f4e-a6bc-29c7104834dc",
   "metadata": {},
   "outputs": [],
   "source": [
    "'''\n",
    "A time series is a sequence of data points collected or recorded at specific time intervals. Common applications of time series analysis\n",
    "include economic forecasting, sales forecasting, stock market analysis, environmental monitoring, and any other domain where understanding\n",
    "and predicting temporal patterns is crucial.\n"
   ]
  },
  {
   "cell_type": "markdown",
   "id": "c58f3200-143b-4536-b0ef-8fee2729beb1",
   "metadata": {},
   "source": [
    "# Ans : 2"
   ]
  },
  {
   "cell_type": "code",
   "execution_count": null,
   "id": "d1e8389b-18e6-4609-a230-2536b6e8039a",
   "metadata": {},
   "outputs": [],
   "source": [
    "'''\n",
    "Common time series patterns include trend (long-term movement), seasonality (regular, repeating patterns), cyclic patterns (longer-term \n",
    "fluctuations), and irregular variations (random or unpredictable changes). These patterns can be identified through visual inspection,\n",
    "decomposition methods, and statistical techniques such as autocorrelation and spectral analysis.\n",
    "\n",
    "'''"
   ]
  },
  {
   "cell_type": "markdown",
   "id": "10ead301-a7b1-4d1f-81f1-0994c42b2498",
   "metadata": {},
   "source": [
    "# Ans : 3\n"
   ]
  },
  {
   "cell_type": "code",
   "execution_count": null,
   "id": "f3b6f7a4-a8d3-40e7-ae8f-f1df2884e88d",
   "metadata": {},
   "outputs": [],
   "source": [
    "'''\n",
    " Preprocessing steps include handling missing values (imputation or deletion), smoothing (moving averages, exponential smoothing), \n",
    " detrending (removing trends), deseasonalizing (removing seasonal effects), and differencing (transforming non-stationary series to\n",
    " stationary).\n",
    "'''"
   ]
  },
  {
   "cell_type": "markdown",
   "id": "7752d61b-cbb9-403f-8172-b05e939cd4b4",
   "metadata": {},
   "source": [
    "# Ans : 4"
   ]
  },
  {
   "cell_type": "code",
   "execution_count": null,
   "id": "dd72f95e-dc64-4b81-bbc9-457218fcdcf4",
   "metadata": {},
   "outputs": [],
   "source": [
    "'''\n",
    "Time series forecasting helps businesses predict future events, plan inventory, allocate resources, and make informed decisions. Challenges \n",
    "include dealing with non-stationarity, handling missing data, model selection, overfitting, and the inherent uncertainty in future\n",
    "predictions.\n",
    "'''"
   ]
  },
  {
   "cell_type": "markdown",
   "id": "efad4fdf-97ac-4785-8cdd-38ccd398560f",
   "metadata": {},
   "source": [
    "# Ans : 5"
   ]
  },
  {
   "cell_type": "code",
   "execution_count": null,
   "id": "58bf9a8d-39d7-4e21-87df-807ae524ca40",
   "metadata": {},
   "outputs": [],
   "source": [
    "'''\n",
    "ARIMA (AutoRegressive Integrated Moving Average) modeling is a popular technique for forecasting time series data. It combines autoregression\n",
    "(AR), differencing (I), and moving average (MA) components to model and predict future values based on past data. It is useful for capturing\n",
    "various patterns in the data, such as trends and seasonality.\n",
    "'''"
   ]
  },
  {
   "cell_type": "markdown",
   "id": "86e3dc12-0bbe-42d9-9354-c90e279dc8a2",
   "metadata": {},
   "source": [
    "# Ans : 6"
   ]
  },
  {
   "cell_type": "code",
   "execution_count": null,
   "id": "4271d4bc-5113-4305-8e0d-b7c751bf388c",
   "metadata": {},
   "outputs": [],
   "source": [
    "'''\n",
    " ACF and PACF plots are diagnostic tools that help identify the appropriate lag values for the AR and MA components of an ARIMA model. \n",
    " The ACF plot shows the correlation of the series with its lagged values, while the PACF plot shows the correlation of the series with \n",
    " its lagged values after removing the effects of shorter lags. Patterns in these plots guide the selection of AR and MA orders.\n",
    "'''"
   ]
  },
  {
   "cell_type": "markdown",
   "id": "5085d909-93ab-4f2e-b371-f10b4f2b3eea",
   "metadata": {},
   "source": [
    "# Ans : 7"
   ]
  },
  {
   "cell_type": "code",
   "execution_count": null,
   "id": "e7608ce7-ce3e-4c9f-bb38-55dcdfb95c8e",
   "metadata": {},
   "outputs": [],
   "source": [
    "'''\n",
    "ARIMA models assume stationarity, which means that the statistical properties of the time series (mean, variance, autocorrelation) are \n",
    "constant over time. Assumptions can be tested using unit root tests (e.g., Augmented Dickey-Fuller test), examining residuals for randomness,\n",
    "and checking for constant variance.\n",
    "\n",
    "'''"
   ]
  },
  {
   "cell_type": "markdown",
   "id": "892cca0d-ae56-4140-8f51-0fbc8d82f9e7",
   "metadata": {},
   "source": [
    "# Ans : 8"
   ]
  },
  {
   "cell_type": "code",
   "execution_count": null,
   "id": "3907a81b-962d-4698-88a4-c2b85beb1003",
   "metadata": {},
   "outputs": [],
   "source": [
    "'''\n",
    " A Seasonal ARIMA (SARIMA) model would be recommended, as it can handle both the seasonality and trend present in monthly sales data.\n",
    " SARIMA extends ARIMA by including seasonal components, making it suitable for capturing patterns that repeat at regular intervals.\n",
    " \n",
    "'''"
   ]
  },
  {
   "cell_type": "markdown",
   "id": "c49afc96-2b09-44e6-b399-f4e6d147eee2",
   "metadata": {},
   "source": [
    "# Ans : 9"
   ]
  },
  {
   "cell_type": "code",
   "execution_count": null,
   "id": "d527e28c-88eb-44d6-b656-b1ea4bd8ace6",
   "metadata": {},
   "outputs": [],
   "source": [
    "'''\n",
    "Limitations of time series analysis include sensitivity to non-stationarity, difficulty in modeling complex patterns, susceptibility \n",
    "to overfitting, and dependence on historical data quality. An example scenario is predicting stock prices, where sudden market changes\n",
    "or external shocks can render historical patterns irrelevant.\n",
    "\n",
    "'''"
   ]
  },
  {
   "cell_type": "markdown",
   "id": "289342b5-4d01-4465-9f83-2c5eacdcf29e",
   "metadata": {},
   "source": [
    "# Ans : 10"
   ]
  },
  {
   "cell_type": "code",
   "execution_count": null,
   "id": "8387a173-d3a0-4a4e-af77-f4f96daf0101",
   "metadata": {},
   "outputs": [],
   "source": [
    "'''\n",
    "A stationary time series has constant statistical properties over time, while a non-stationary series has changing properties\n",
    "(e.g., trends, seasonality). Stationarity affects model choice because many forecasting models, like ARIMA, require stationarity to make \n",
    "reliable predictions. Non-stationary data often need to be transformed (e.g., differencing) to achieve stationarity before applying these\n",
    "models.\n",
    "\n",
    "'''"
   ]
  }
 ],
 "metadata": {
  "kernelspec": {
   "display_name": "Python 3 (ipykernel)",
   "language": "python",
   "name": "python3"
  },
  "language_info": {
   "codemirror_mode": {
    "name": "ipython",
    "version": 3
   },
   "file_extension": ".py",
   "mimetype": "text/x-python",
   "name": "python",
   "nbconvert_exporter": "python",
   "pygments_lexer": "ipython3",
   "version": "3.10.8"
  }
 },
 "nbformat": 4,
 "nbformat_minor": 5
}
